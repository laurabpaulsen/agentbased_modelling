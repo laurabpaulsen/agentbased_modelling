{
 "cells": [
  {
   "cell_type": "markdown",
   "metadata": {},
   "source": [
    "# Agent-based modelling"
   ]
  },
  {
   "cell_type": "code",
   "execution_count": null,
   "metadata": {},
   "outputs": [],
   "source": [
    "from ABM_functions import *\n",
    "from helper_functions import *\n",
    "import pandas as pd"
   ]
  },
  {
   "cell_type": "markdown",
   "metadata": {},
   "source": [
    "#### Setting up parameters"
   ]
  },
  {
   "cell_type": "code",
   "execution_count": null,
   "metadata": {},
   "outputs": [],
   "source": [
    "company_titles = ['Level 1', 'Level 2', 'Level 3', 'Level 4', 'Level 5', 'Level 6'] # job titles for agents in company\n",
    "n = 15\n",
    "titles_n = [n, n*4**1, n*4**2, n*4**3,  n*4**4,  n*4**4] # number of agents in each job title\n",
    "\n",
    "# weights for generating agents (populating company + new agents at the lowest level)\n",
    "# possibly create a function for this?\n",
    "\n",
    "\n",
    "weights = {\n",
    "    'Level 1':{\n",
    "        'weights': [0.81, 0.19], # first weight is male, second is female\n",
    "        'age': [56, 5], # mean and standard deviation for random.gauss function\n",
    "        'seniority': [8, 2], # mean and standard deviation for random.gauss function\n",
    "        'fire': [0.011, 1-0.011], # first is weight of being fired, second is weight of not being fired\n",
    "        'seniority_position': [3, 1], # first is true, second is false\n",
    "        'candidates': 10}, # number of candidates to be considered for promotion to this level\n",
    "    'Level 2':{\n",
    "        'weights': [0.76, 0.24], \n",
    "        'age': [52, 5],\n",
    "        'seniority': [7, 2],\n",
    "        'fire': [0.011, 1-0.011],\n",
    "        'seniority_position': [3, 1],\n",
    "        'candidates': 10},\n",
    "    'Level 3':{\n",
    "        'weights': [0.71, 0.29],\n",
    "        'age': [52, 8],\n",
    "        'seniority': [6, 2],\n",
    "        'fire': [0.011, 1-0.011],\n",
    "        'seniority_position': [3, 1],\n",
    "        'candidates': 10},\n",
    "    'Level 4':{\n",
    "        'weights': [0.67, 0.33], \n",
    "        'age': [44, 8],\n",
    "        'seniority': [5, 2],\n",
    "        'fire': [0.011, 1-0.011],\n",
    "        'seniority_position': [3, 1],\n",
    "        'candidates': 10}, \n",
    "    'Level 5':{\n",
    "        'weights': [0.63, 0.37],\n",
    "        'age': [44, 8],\n",
    "        'seniority': [4, 1],\n",
    "        'fire': [0.011, 1-0.011],\n",
    "        'seniority_position': [3, 1],\n",
    "        'candidates': 10},\n",
    "    'Level 6':{\n",
    "        'weights': [0.54, 0.46], \n",
    "        'age': [30, 8],\n",
    "        'seniority':[3, 1],\n",
    "        'fire': [0.011, 1-0.011],\n",
    "        'seniority_position': [3, 1]}\n",
    "    }\n"
   ]
  },
  {
   "cell_type": "markdown",
   "metadata": {},
   "source": [
    "## Running the agent-based model for the period we have data for"
   ]
  },
  {
   "cell_type": "code",
   "execution_count": null,
   "metadata": {},
   "outputs": [],
   "source": [
    "run_abm(months = 60,\n",
    "        save_path = 'data/data.csv',\n",
    "        company_titles = company_titles, # the job titles in the company\n",
    "        titles_n = titles_n, # the number of employees with each of the titles\n",
    "        weights = weights, # the weights for generating agents\n",
    "        bias_scaler = 1, # the scaler for the bias calculated (negative = positive bias towards women, positive = positive bias towards men)\n",
    "        diversity_bias_scaler = 6,\n",
    "        threshold = [0.30, 0.40, 0.40, 0.45, 0.45, 0.50],\n",
    "        months_pl = 12,\n",
    "        plot_each_tick = False)"
   ]
  },
  {
   "cell_type": "markdown",
   "metadata": {},
   "source": [
    "## Interventions"
   ]
  },
  {
   "cell_type": "code",
   "execution_count": null,
   "metadata": {},
   "outputs": [],
   "source": [
    "# reading in the company as is after the simulation of the time we have data for\n",
    "company_validated = pd.read_pickle('data/company.pkl')"
   ]
  },
  {
   "cell_type": "markdown",
   "metadata": {},
   "source": [
    "#### Shared parental leave"
   ]
  },
  {
   "cell_type": "code",
   "execution_count": null,
   "metadata": {},
   "outputs": [],
   "source": [
    "run_abm(months = 5*12,\n",
    "        save_path='data/data_shared_parental.csv', # the path for saving the data\n",
    "        company_titles = company_titles, # the job titles in the company\n",
    "        titles_n = titles_n, # the number of employees with each of the titles\n",
    "        weights = weights, # the weights for generating agents\n",
    "        bias_scaler = 1, # the scaler for the bias calculated                                                       (negative = positive bias towards women, positive = positive bias towards men)\n",
    "        diversity_bias_scaler = 6,\n",
    "        threshold = [0.30, 0.40, 0.40, 0.45, 0.45, 0.50],\n",
    "        plot_each_tick = False,\n",
    "        intervention = 'shared_parental',\n",
    "        months_pl = 6,\n",
    "        company = company_validated)"
   ]
  },
  {
   "cell_type": "markdown",
   "metadata": {},
   "source": [
    "### Longer shortlists"
   ]
  },
  {
   "cell_type": "code",
   "execution_count": null,
   "metadata": {},
   "outputs": [],
   "source": [
    "run_abm(months = 5*12,\n",
    "        save_path='data/data_shortlist.csv', # the path for saving the data\n",
    "        company_titles = company_titles, # the job titles in the company\n",
    "        titles_n = titles_n, # the number of employees with each of the titles\n",
    "        weights = weights, # the weights for generating agents\n",
    "        bias_scaler = 1, # the scaler for the bias calculated (negative = positive bias towards women, positive = positive bias towards men)\n",
    "        diversity_bias_scaler = 6,\n",
    "        threshold = [0.30, 0.40, 0.40, 0.45, 0.45, 0.50],\n",
    "        plot_each_tick = False,\n",
    "        intervention = 'shortlist',\n",
    "        months_pl = 12,\n",
    "        company = company_validated)"
   ]
  },
  {
   "cell_type": "markdown",
   "metadata": {},
   "source": [
    "#### Blinding\n",
    "The bias added before choosing the candidates in the other simulations are removed. Instead the bias is added after the shortlist has been made."
   ]
  },
  {
   "cell_type": "code",
   "execution_count": null,
   "metadata": {},
   "outputs": [],
   "source": [
    "run_abm(months = 5*12,\n",
    "        save_path='data/data_blinding.csv', # the path for saving the data\n",
    "        company_titles = company_titles, # the job titles in the company\n",
    "        titles_n = titles_n, # the number of employees with each of the titles\n",
    "        weights = weights, # the weights for generating agents\n",
    "        bias_scaler = 1, # the scaler for the bias calculated (negative = positive bias towards women, positive = positive bias towards men)\n",
    "        diversity_bias_scaler = 6,\n",
    "        threshold = [0.30, 0.40, 0.40, 0.45, 0.45, 0.50],\n",
    "        plot_each_tick = False,\n",
    "        intervention = 'blinding',\n",
    "        months_pl = 12,\n",
    "        company = company_validated)"
   ]
  },
  {
   "cell_type": "markdown",
   "metadata": {},
   "source": [
    "# No interventions\n"
   ]
  },
  {
   "cell_type": "code",
   "execution_count": null,
   "metadata": {},
   "outputs": [],
   "source": [
    "run_abm(months = 5*12,\n",
    "        save_path='data/data_no_intervention.csv', # the path for saving the data\n",
    "        company_titles = company_titles, # the job titles in the company\n",
    "        titles_n = titles_n, # the number of employees with each of the titles\n",
    "        weights = weights, # the weights for generating agents\n",
    "        bias_scaler = 1, # the scaler for the bias calculated (negative = positive bias towards women, positive = positive bias towards men)\n",
    "        diversity_bias_scaler = 6,\n",
    "        threshold = [0.30, 0.40, 0.40, 0.45, 0.45, 0.50],\n",
    "        plot_each_tick = False,\n",
    "        intervention = None,\n",
    "        months_pl = 12,\n",
    "        company = company_validated)"
   ]
  }
 ],
 "metadata": {
  "interpreter": {
   "hash": "bbfd61b9771b25adb48756b02878e03699aa9c48f369525daaaa61fe69c4b1b3"
  },
  "kernelspec": {
   "display_name": "Python 3.9.7 ('methods3')",
   "language": "python",
   "name": "python3"
  },
  "language_info": {
   "codemirror_mode": {
    "name": "ipython",
    "version": 3
   },
   "file_extension": ".py",
   "mimetype": "text/x-python",
   "name": "python",
   "nbconvert_exporter": "python",
   "pygments_lexer": "ipython3",
   "version": "3.9.7"
  },
  "orig_nbformat": 4
 },
 "nbformat": 4,
 "nbformat_minor": 2
}
