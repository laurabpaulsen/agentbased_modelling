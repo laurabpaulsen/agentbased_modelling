{
 "cells": [
  {
   "cell_type": "markdown",
   "metadata": {},
   "source": [
    "# Agent-based modelling"
   ]
  },
  {
   "cell_type": "code",
   "execution_count": null,
   "metadata": {},
   "outputs": [],
   "source": [
    "from ABM_functions import *\n",
    "from helper_functions import *\n",
    "import pandas as pd\n",
    "import matplotlib.pyplot as plt"
   ]
  },
  {
   "cell_type": "markdown",
   "metadata": {},
   "source": [
    "#### Setting up parameters"
   ]
  },
  {
   "cell_type": "code",
   "execution_count": null,
   "metadata": {},
   "outputs": [],
   "source": [
    "company_titles = ['C-Suite', 'SVP', 'VP', 'Senior Manager', 'Manager', 'Entry Level'] # job titles for agents in company\n",
    "n = 50\n",
    "titles_n = [n, n*5**2, n*5**3, n*5**4,  n*5**5,  n*5**6] # number of agents in each job title\n",
    "\n",
    "# weights for generating agents (populating company + new agents at the lowest level)\n",
    "# possibly create a function for this?\n",
    "\n",
    "\n",
    "weights = {\n",
    "    'C-Suite':{\n",
    "        'weights': [0.81, 0.19], # first weight is male, second is female\n",
    "        'age': [50, 8], # mean and standard deviation for random.gauss function\n",
    "        'seniority': [10, 3], # mean and standard deviation for random.gauss function\n",
    "        'fire': [0.001, 1], # first is weight of being fired, second is weight of not being fired\n",
    "        'seniority_position': [3, 1], # first is true, second is false\n",
    "        'candidates': 10}, # number of candidates to be considered for promotion to this level\n",
    "    'SVP':{\n",
    "        'weights': [0.76, 0.24], \n",
    "        'age': [50, 8],\n",
    "        'seniority': [7, 3],\n",
    "        'fire': [0.001, 1],\n",
    "        'seniority_position': [3, 1],\n",
    "        'candidates': 20},\n",
    "    'VP':{\n",
    "        'weights': [0.71, 0.29],\n",
    "        'age': [50, 8],\n",
    "        'seniority': [5, 3],\n",
    "        'fire': [0.001, 1],\n",
    "        'seniority_position': [3, 1],\n",
    "        'candidates': 30},\n",
    "    'Senior Manager':{\n",
    "        'weights': [0.67, 0.33], \n",
    "        'age': [40, 8],\n",
    "        'seniority': [4, 3],\n",
    "        'fire': [0.001, 1],\n",
    "        'seniority_position': [3, 1],\n",
    "        'candidates': 40}, \n",
    "    'Manager':{\n",
    "        'weights': [0.63, 0.37],\n",
    "        'age': [35, 8],\n",
    "        'seniority': [3, 1],\n",
    "        'fire': [0.001, 1],\n",
    "        'seniority_position': [3, 1],\n",
    "        'candidates': 50},\n",
    "    'Entry Level':{\n",
    "        'weights': [0.54, 0.46], \n",
    "        'age': [30, 8],\n",
    "        'seniority':[3, 1],\n",
    "        'fire': [0.001, 1],\n",
    "        'seniority_position': [3, 1]}\n",
    "    }\n"
   ]
  },
  {
   "cell_type": "markdown",
   "metadata": {},
   "source": [
    "## Running the agent-based model for the period we have data for"
   ]
  },
  {
   "cell_type": "code",
   "execution_count": null,
   "metadata": {},
   "outputs": [],
   "source": [
    "run_abm(months = 60,\n",
    "        save_path='data/data.csv', # the path for saving the data\n",
    "        company_titles = company_titles, # the job titles in the company\n",
    "        titles_n = titles_n, # the number of employees with each of the titles\n",
    "        weights = weights, # the weights for generating agents\n",
    "        bias_scaler = 1, # the scaler for the bias calculated (negative = positive bias towards women, positive = positive bias towards men)\n",
    "        diversity_bias_scaler = 1,\n",
    "        threshold = [0.5, 0.5, 0.5, 0.5, 0.5, 0.5],\n",
    "        parental_leave_weights = [0.001, 1], # yes, no\n",
    "        plot_each_tick = False)"
   ]
  },
  {
   "cell_type": "markdown",
   "metadata": {},
   "source": [
    "## Interventions"
   ]
  },
  {
   "cell_type": "code",
   "execution_count": null,
   "metadata": {},
   "outputs": [],
   "source": [
    "# reading in the company as is after the simulation of the time we have data for\n",
    "company_validated = pd.read_pickle('data/company.pkl')"
   ]
  },
  {
   "cell_type": "markdown",
   "metadata": {},
   "source": [
    "#### Shared parental leave?\n",
    "* Make sure that company_validated is used\n",
    "* Make sure probabilty of parental leave is half the value of that in the validation simulation\n",
    "\n",
    "\n",
    "The current simulation assumes no change in the bias"
   ]
  },
  {
   "cell_type": "code",
   "execution_count": null,
   "metadata": {},
   "outputs": [],
   "source": [
    "run_abm(months = 5*12,\n",
    "        save_path='data/data_shared_parental.csv', # the path for saving the data\n",
    "        company_titles = company_titles, # the job titles in the company\n",
    "        titles_n = titles_n, # the number of employees with each of the titles\n",
    "        weights = weights, # the weights for generating agents\n",
    "        bias_scaler = 1, # the scaler for the bias calculated (negative = positive bias towards women, positive = positive bias towards men)\n",
    "        diversity_bias_scaler = 1,\n",
    "        threshold = [0.5, 0.5, 0.5, 0.5, 0.5, 0.5],\n",
    "        parental_leave_weights = [0.001, 1], # yes, no\n",
    "        plot_each_tick = False,\n",
    "        intervention = 'shared_parental',\n",
    "        company = company_validated)"
   ]
  },
  {
   "cell_type": "markdown",
   "metadata": {},
   "source": [
    "#### Gender quota at the top positions\n",
    "\n",
    "**OKI we need to discuss this crap**\n",
    "\n",
    "* Now coded in a way that there is a 50/50 percent chance of either a male or female being promoted to the top level"
   ]
  },
  {
   "cell_type": "code",
   "execution_count": null,
   "metadata": {},
   "outputs": [],
   "source": [
    "run_abm(months = 5*12,\n",
    "        save_path='data/data_quota.csv', # the path for saving the data\n",
    "        company_titles = company_titles, # the job titles in the company\n",
    "        titles_n = titles_n, # the number of employees with each of the titles\n",
    "        weights = weights, # the weights for generating agents\n",
    "        bias_scaler = 1, # the scaler for the bias calculated (negative = positive bias towards women, positive = positive bias towards men)\n",
    "        diversity_bias_scaler = 1,\n",
    "        threshold = [0.5, 0.5, 0.5, 0.5, 0.5, 0.5],\n",
    "        parental_leave_weights = [0.001, 1], # yes, no\n",
    "        plot_each_tick = False,\n",
    "        intervention = 'quota',\n",
    "        company = company_validated)"
   ]
  },
  {
   "cell_type": "markdown",
   "metadata": {},
   "source": [
    "#### Blinding\n",
    "The bias added before choosing the candidates in the other simulations are removed. Instead the bias is added after the short list has been made."
   ]
  },
  {
   "cell_type": "code",
   "execution_count": null,
   "metadata": {},
   "outputs": [],
   "source": [
    "run_abm(months = 5*12,\n",
    "        save_path='data/data_blinding.csv', # the path for saving the data\n",
    "        company_titles = company_titles, # the job titles in the company\n",
    "        titles_n = titles_n, # the number of employees with each of the titles\n",
    "        weights = weights, # the weights for generating agents\n",
    "        bias_scaler = 1, # the scaler for the bias calculated (negative = positive bias towards women, positive = positive bias towards men)\n",
    "        diversity_bias_scaler = 1,\n",
    "        threshold = [0.5, 0.5, 0.5, 0.5, 0.5, 0.5],\n",
    "        parental_leave_weights = [0.001, 1], # yes, no\n",
    "        plot_each_tick = False,\n",
    "        intervention = 'blinding',\n",
    "        company = company_validated)"
   ]
  },
  {
   "cell_type": "markdown",
   "metadata": {},
   "source": [
    "## Mckinsey data\n",
    "**2017**\n",
    "entry level: 52, 48\n",
    "manager: 63, 37\n",
    "senior manager: 67, 33 \n",
    "vice president: 72, 28 \n",
    "senior vice president: 79, 21 \n",
    "c-suite: 79, 21 \n",
    "\n",
    "**2018**\n",
    "entry level: 52, 48\n",
    "manager: 62, 38\n",
    "senior manager: 66, 34 \n",
    "vice president: 71, 29 \n",
    "senior vice president: 77, 23 \n",
    "c-suite: 78, 22 \n",
    "\n",
    "**2019**\n",
    "entry level: 52, 48 \n",
    "manager: 62, 38\n",
    "senior manager: 65, 35\n",
    "vice president: 69, 31 \n",
    "senior vice president: 74, 26\n",
    "c-suite: 78, 22 \n",
    "\n",
    "**2020**\n",
    "entry level: 53, 47\n",
    "manager: 62, 38\n",
    "senior manager: 67, 33\n",
    "vice president: 71, 29\n",
    "senior vice president: 72, 28\n",
    "c-suite: 79, 21 \n",
    "\n",
    "**2021**\n",
    "entry level: 52, 48\n",
    "manager: 59, 41\n",
    "senior manager: 65, 35\n",
    "vice president: 70, 30\n",
    "senior vice president: 73, 27\n",
    "c-suite: 76, 24 "
   ]
  },
  {
   "cell_type": "code",
   "execution_count": null,
   "metadata": {},
   "outputs": [],
   "source": [
    "data_dict = {'2017': {'Entry Level': [52, 48], 'Manager': [63, 37], 'Senior Manager': [67, 33], 'Vice President': [72, 28], 'Senior Vice President': [79, 21], 'C-suite': [79, 21]},\n",
    "             '2018': {'Entry Level': [52, 48], 'Manager': [62, 38], 'Senior Manager': [66, 34], 'Vice President': [71, 29], 'Senior Vice President': [77, 23], 'C-suite': [78, 22]},\n",
    "             '2019': {'Entry Level': [52, 48], 'Manager': [62, 38], 'Senior Manager': [65, 35], 'Vice President': [69, 31], 'Senior Vice President': [74, 26], 'C-suite': [78, 22]},\n",
    "             '2020': {'Entry Level': [53, 47], 'Manager': [62, 38], 'Senior Manager': [67, 33], 'Vice President': [71, 29], 'Senior Vice President': [72, 28], 'C-suite': [79, 21]},\n",
    "             '2021': {'Entry Level': [52, 48], 'Manager': [59, 41], 'Senior Manager': [65, 35], 'Vice President': [70, 30], 'Senior Vice President': [73, 27], 'C-suite': [76, 24]}}\n",
    "data_percent_women = {'2017': {'Entry Level': 48, 'Manager': 37, 'Senior Manager': 33, 'Vice President': 28, 'Senior Vice President': 21, 'C-suite': 21},\n",
    "             '2018': {'Entry Level': 48, 'Manager': 38, 'Senior Manager': 34, 'Vice President': 29, 'Senior Vice President': 23, 'C-suite': 22},\n",
    "             '2019': {'Entry Level': 48, 'Manager': 38, 'Senior Manager': 35, 'Vice President': 31, 'Senior Vice President': 26, 'C-suite': 22},\n",
    "             '2020': {'Entry Level': 47, 'Manager': 38, 'Senior Manager': 33, 'Vice President': 29, 'Senior Vice President': 28, 'C-suite': 21},\n",
    "             '2021': {'Entry Level': 48, 'Manager': 41, 'Senior Manager': 35, 'Vice President': 30, 'Senior Vice President': 27, 'C-suite': 24}}"
   ]
  },
  {
   "cell_type": "code",
   "execution_count": null,
   "metadata": {},
   "outputs": [],
   "source": [
    "plot_data = pd.DataFrame.from_dict(data_percent_women, orient='index')"
   ]
  },
  {
   "cell_type": "code",
   "execution_count": null,
   "metadata": {},
   "outputs": [],
   "source": [
    "colors = ['#018571', '#0571B0', '#FDB863', '#92C5DE', '#B8E186', '#DFC27D']\n",
    "# plt the plot_data\n",
    "fig = plt.figure(figsize=(12,7))\n",
    "# plot a line for each position (x axis is the year, y axis is the number of people in that position)\n",
    "for i in range(len(plot_data.columns)):\n",
    "    plt.plot(plot_data.index, plot_data.iloc[:, i], label=plot_data.columns[i], color = colors[i])\n",
    "plt.legend()\n",
    "# add a title\n",
    "plt.title('Number of people in each position over time')\n",
    "# add a label for the x axis\n",
    "plt.xlabel('Year')\n",
    "# add a label for the y axis\n",
    "plt.ylabel('Percentage of women')\n",
    "# set y-lim\n",
    "plt.ylim([20, 70])\n",
    "SMALL_SIZE = 12\n",
    "MEDIUM_SIZE = 18\n",
    "BIGGER_SIZE = 22\n",
    "\n",
    "plt.rc('font', size=SMALL_SIZE)          # controls default text sizes\n",
    "plt.rc('axes', titlesize=MEDIUM_SIZE)     # fontsize of the axes title\n",
    "plt.rc('axes', labelsize=MEDIUM_SIZE)    # fontsize of the x and y labels\n",
    "plt.rc('xtick', labelsize=SMALL_SIZE)    # fontsize of the tick labels\n",
    "plt.rc('ytick', labelsize=SMALL_SIZE)    # fontsize of the tick labels\n",
    "plt.rc('legend', fontsize=SMALL_SIZE)    # legend fontsize\n",
    "plt.rc('figure', titlesize=BIGGER_SIZE)  # fontsize of the figure title\n",
    "\n"
   ]
  }
 ],
 "metadata": {
  "interpreter": {
   "hash": "bbfd61b9771b25adb48756b02878e03699aa9c48f369525daaaa61fe69c4b1b3"
  },
  "kernelspec": {
   "display_name": "Python 3.9.7 ('methods3')",
   "language": "python",
   "name": "python3"
  },
  "language_info": {
   "codemirror_mode": {
    "name": "ipython",
    "version": 3
   },
   "file_extension": ".py",
   "mimetype": "text/x-python",
   "name": "python",
   "nbconvert_exporter": "python",
   "pygments_lexer": "ipython3",
   "version": "3.9.7"
  },
  "orig_nbformat": 4
 },
 "nbformat": 4,
 "nbformat_minor": 2
}
