{
 "cells": [
  {
   "cell_type": "markdown",
   "metadata": {},
   "source": [
    "# Agent-based modelling\n",
    "\n",
    "### Policies\n",
    "##### Blinding/masking\n",
    "* Remove bias for entering applicant pool \n",
    "* Adding bias after (they see gender at interview)\n",
    "\n",
    "##### Gender quota\n",
    "\n"
   ]
  },
  {
   "cell_type": "code",
   "execution_count": 1,
   "metadata": {},
   "outputs": [],
   "source": [
    "import random\n",
    "import numpy as np\n",
    "import matplotlib.pyplot as plt\n",
    "from ABM_functions import *\n",
    "from helper_functions import *\n",
    "import pandas as pd"
   ]
  },
  {
   "cell_type": "markdown",
   "metadata": {},
   "source": [
    "#### Setting up parameters"
   ]
  },
  {
   "cell_type": "code",
   "execution_count": 2,
   "metadata": {},
   "outputs": [],
   "source": [
    "company_titles = ['C-Suite', 'SVP', 'VP', 'Senior Manager', 'Manager', 'Entry Level'] # job titles for agents in company\n",
    "n = 100\n",
    "titles_n = [n, n*15, n*50, n*70,  n*90,  n*130] # number of agents in each job title\n",
    "\n",
    "# weights for generating agents (populating company + new agents at the lowest level)\n",
    "# possibly create a function for this?\n",
    "\n",
    "\n",
    "weights = {\n",
    "    'C-Suite':{\n",
    "        'weights': [0.81, 0.19], # first weight is male, second is female\n",
    "        'age': [50, 8], # mean and standard deviation for random.gauss function\n",
    "        'seniority': [5, 3], # mean and standard deviation for random.gauss function\n",
    "        'fire': [0.001, 1], # first is weight of being fired, second is weight of not being fired\n",
    "        'seniority_position': [3, 1], # first is true, second is false\n",
    "        'candidates': 10}, # number of candidates to be considered for promotion to this level\n",
    "    'SVP':{\n",
    "        'weights': [0.76, 0.24], \n",
    "        'age': [50, 8],\n",
    "        'seniority': [5, 3],\n",
    "        'fire': [0.001, 1],\n",
    "        'seniority_position': [3, 1],\n",
    "        'candidates': 20},\n",
    "    'VP':{\n",
    "        'weights': [0.71, 0.29],\n",
    "        'age': [50, 8],\n",
    "        'seniority': [5, 3],\n",
    "        'fire': [0.001, 1],\n",
    "        'seniority_position': [3, 1],\n",
    "        'candidates': 30},\n",
    "    'Senior Manager':{\n",
    "        'weights': [0.67, 0.33], \n",
    "        'age': [40, 6],\n",
    "        'seniority': [5, 3],\n",
    "        'fire': [0.001, 1],\n",
    "        'seniority_position': [3, 1],\n",
    "        'candidates': 40}, \n",
    "    'Manager':{\n",
    "        'weights': [0.63, 0.37],\n",
    "        'age': [35, 6],\n",
    "        'seniority': [4, 1],\n",
    "        'fire': [0.001, 1],\n",
    "        'seniority_position': [3, 1],\n",
    "        'candidates': 50},\n",
    "    'Entry Level':{\n",
    "        'weights': [0.54, 0.46], \n",
    "        'age': [30, 6],\n",
    "        'seniority':[3, 1],\n",
    "        'fire': [0.001, 1],\n",
    "        'seniority_position': [3, 1]}\n",
    "    }\n"
   ]
  },
  {
   "cell_type": "markdown",
   "metadata": {},
   "source": [
    "## Running the agent-based model for the period we have data for"
   ]
  },
  {
   "cell_type": "code",
   "execution_count": 3,
   "metadata": {},
   "outputs": [
    {
     "ename": "KeyboardInterrupt",
     "evalue": "",
     "output_type": "error",
     "traceback": [
      "\u001b[0;31m---------------------------------------------------------------------------\u001b[0m",
      "\u001b[0;31mKeyboardInterrupt\u001b[0m                         Traceback (most recent call last)",
      "\u001b[0;32m/var/folders/4t/gp67d4t56ysgr041byyd6shr0000gn/T/ipykernel_19393/2999894004.py\u001b[0m in \u001b[0;36m<module>\u001b[0;34m\u001b[0m\n\u001b[0;32m----> 1\u001b[0;31m run_abm(months = 10,\n\u001b[0m\u001b[1;32m      2\u001b[0m         \u001b[0msave_path\u001b[0m\u001b[0;34m=\u001b[0m\u001b[0;34m'data/data.csv'\u001b[0m\u001b[0;34m,\u001b[0m \u001b[0;31m# the path for saving the data\u001b[0m\u001b[0;34m\u001b[0m\u001b[0;34m\u001b[0m\u001b[0m\n\u001b[1;32m      3\u001b[0m         \u001b[0mcompany_titles\u001b[0m \u001b[0;34m=\u001b[0m \u001b[0mcompany_titles\u001b[0m\u001b[0;34m,\u001b[0m \u001b[0;31m# the job titles in the company\u001b[0m\u001b[0;34m\u001b[0m\u001b[0;34m\u001b[0m\u001b[0m\n\u001b[1;32m      4\u001b[0m         \u001b[0mtitles_n\u001b[0m \u001b[0;34m=\u001b[0m \u001b[0mtitles_n\u001b[0m\u001b[0;34m,\u001b[0m \u001b[0;31m# the number of employees with each of the titles\u001b[0m\u001b[0;34m\u001b[0m\u001b[0;34m\u001b[0m\u001b[0m\n\u001b[1;32m      5\u001b[0m         \u001b[0mweights\u001b[0m \u001b[0;34m=\u001b[0m \u001b[0mweights\u001b[0m\u001b[0;34m,\u001b[0m \u001b[0;31m# the weights for generating agents\u001b[0m\u001b[0;34m\u001b[0m\u001b[0;34m\u001b[0m\u001b[0m\n",
      "\u001b[0;32m~/Desktop/Sockult-exam/agentbased_modelling/ABM_functions.py\u001b[0m in \u001b[0;36mrun_abm\u001b[0;34m(months, save_path, company_titles, titles_n, weights, bias_scaler, plot_each_tick, months_pl, threshold, diversity_bias_scaler)\u001b[0m\n\u001b[1;32m    447\u001b[0m \u001b[0;34m\u001b[0m\u001b[0m\n\u001b[1;32m    448\u001b[0m                 \u001b[0;32mif\u001b[0m \u001b[0mcompany\u001b[0m\u001b[0;34m[\u001b[0m\u001b[0mi\u001b[0m\u001b[0;34m]\u001b[0m\u001b[0;34m[\u001b[0m\u001b[0mj\u001b[0m\u001b[0;34m]\u001b[0m \u001b[0;34m==\u001b[0m \u001b[0;32mNone\u001b[0m\u001b[0;34m:\u001b[0m\u001b[0;34m\u001b[0m\u001b[0;34m\u001b[0m\u001b[0m\n\u001b[0;32m--> 449\u001b[0;31m                     \u001b[0mpromote_agent\u001b[0m\u001b[0;34m(\u001b[0m\u001b[0mcompany\u001b[0m\u001b[0;34m,\u001b[0m \u001b[0mi\u001b[0m\u001b[0;34m,\u001b[0m \u001b[0mj\u001b[0m\u001b[0;34m,\u001b[0m \u001b[0mind_i\u001b[0m\u001b[0;34m,\u001b[0m \u001b[0mweight\u001b[0m\u001b[0;34m=\u001b[0m\u001b[0mweights\u001b[0m\u001b[0;34m,\u001b[0m \u001b[0mbias\u001b[0m \u001b[0;34m=\u001b[0m \u001b[0mbias\u001b[0m\u001b[0;34m,\u001b[0m \u001b[0mthreshold\u001b[0m \u001b[0;34m=\u001b[0m \u001b[0mthreshold\u001b[0m\u001b[0;34m[\u001b[0m\u001b[0mind_i\u001b[0m\u001b[0;34m]\u001b[0m\u001b[0;34m,\u001b[0m \u001b[0mdiversity_bias_scaler\u001b[0m \u001b[0;34m=\u001b[0m \u001b[0mdiversity_bias_scaler\u001b[0m\u001b[0;34m)\u001b[0m\u001b[0;34m\u001b[0m\u001b[0;34m\u001b[0m\u001b[0m\n\u001b[0m\u001b[1;32m    450\u001b[0m \u001b[0;34m\u001b[0m\u001b[0m\n\u001b[1;32m    451\u001b[0m         \u001b[0;31m# plotting and appending data to data frame\u001b[0m\u001b[0;34m\u001b[0m\u001b[0;34m\u001b[0m\u001b[0m\n",
      "\u001b[0;32m~/Desktop/Sockult-exam/agentbased_modelling/ABM_functions.py\u001b[0m in \u001b[0;36mpromote_agent\u001b[0;34m(company, i, j, ind_i, weight, bias, threshold, diversity_bias_scaler)\u001b[0m\n\u001b[1;32m    218\u001b[0m     \u001b[0mthreshold\u001b[0m \u001b[0;34m:\u001b[0m \u001b[0mlist\u001b[0m\u001b[0;34m,\u001b[0m \u001b[0mthe\u001b[0m \u001b[0mthreshold\u001b[0m \u001b[0;32mfor\u001b[0m \u001b[0mdiversity\u001b[0m\u001b[0;34m\u001b[0m\u001b[0;34m\u001b[0m\u001b[0m\n\u001b[1;32m    219\u001b[0m     '''\n\u001b[0;32m--> 220\u001b[0;31m     \u001b[0mgender_distribution\u001b[0m \u001b[0;34m=\u001b[0m \u001b[0mcount_gender\u001b[0m\u001b[0;34m(\u001b[0m\u001b[0mcompany\u001b[0m\u001b[0;34m)\u001b[0m\u001b[0;34m\u001b[0m\u001b[0;34m\u001b[0m\u001b[0m\n\u001b[0m\u001b[1;32m    221\u001b[0m     \u001b[0mdiversity_bias\u001b[0m \u001b[0;34m=\u001b[0m \u001b[0mdiversity_check\u001b[0m\u001b[0;34m(\u001b[0m\u001b[0mgender_distribution\u001b[0m\u001b[0;34m,\u001b[0m \u001b[0mind_i\u001b[0m\u001b[0;34m,\u001b[0m \u001b[0mthreshold\u001b[0m\u001b[0;34m,\u001b[0m \u001b[0mdiversity_bias_scaler\u001b[0m\u001b[0;34m)\u001b[0m\u001b[0;34m\u001b[0m\u001b[0;34m\u001b[0m\u001b[0m\n\u001b[1;32m    222\u001b[0m     \u001b[0mchoose_agent_promotion\u001b[0m\u001b[0;34m(\u001b[0m\u001b[0mcompany\u001b[0m\u001b[0;34m,\u001b[0m \u001b[0mi\u001b[0m\u001b[0;34m,\u001b[0m \u001b[0mj\u001b[0m\u001b[0;34m,\u001b[0m \u001b[0mind_i\u001b[0m\u001b[0;34m,\u001b[0m \u001b[0mweight\u001b[0m\u001b[0;34m,\u001b[0m \u001b[0mbias\u001b[0m\u001b[0;34m,\u001b[0m \u001b[0mdiversity_bias\u001b[0m\u001b[0;34m)\u001b[0m\u001b[0;34m\u001b[0m\u001b[0;34m\u001b[0m\u001b[0m\n",
      "\u001b[0;32m~/Desktop/Sockult-exam/agentbased_modelling/ABM_functions.py\u001b[0m in \u001b[0;36mcount_gender\u001b[0;34m(company)\u001b[0m\n\u001b[1;32m     73\u001b[0m                     \u001b[0mfemale_count\u001b[0m\u001b[0;34m[\u001b[0m\u001b[0mindex\u001b[0m\u001b[0;34m]\u001b[0m \u001b[0;34m+=\u001b[0m \u001b[0;36m1\u001b[0m\u001b[0;34m\u001b[0m\u001b[0;34m\u001b[0m\u001b[0m\n\u001b[1;32m     74\u001b[0m                 \u001b[0;32melse\u001b[0m\u001b[0;34m:\u001b[0m\u001b[0;34m\u001b[0m\u001b[0;34m\u001b[0m\u001b[0m\n\u001b[0;32m---> 75\u001b[0;31m                     \u001b[0mmale_count\u001b[0m\u001b[0;34m[\u001b[0m\u001b[0mindex\u001b[0m\u001b[0;34m]\u001b[0m \u001b[0;34m+=\u001b[0m \u001b[0;36m1\u001b[0m\u001b[0;34m\u001b[0m\u001b[0;34m\u001b[0m\u001b[0m\n\u001b[0m\u001b[1;32m     76\u001b[0m     \u001b[0;32mreturn\u001b[0m \u001b[0mfemale_count\u001b[0m\u001b[0;34m,\u001b[0m \u001b[0mmale_count\u001b[0m\u001b[0;34m\u001b[0m\u001b[0;34m\u001b[0m\u001b[0m\n\u001b[1;32m     77\u001b[0m \u001b[0;34m\u001b[0m\u001b[0m\n",
      "\u001b[0;31mKeyboardInterrupt\u001b[0m: "
     ]
    }
   ],
   "source": [
    "run_abm(months = 10,\n",
    "        save_path='data/data.csv', # the path for saving the data\n",
    "        company_titles = company_titles, # the job titles in the company\n",
    "        titles_n = titles_n, # the number of employees with each of the titles\n",
    "        weights = weights, # the weights for generating agents\n",
    "        bias_scaler = 1, # the scaler for the bias calculated (negative = positive bias towards women, positive = positive bias towards men)\n",
    "        diversity_bias_scaler = 10,\n",
    "        threshold = [0.5, 0.5, 0.5, 0.5, 0.5, 0.5],\n",
    "        plot_each_tick = False)"
   ]
  },
  {
   "cell_type": "markdown",
   "metadata": {},
   "source": [
    "### TRYING OUT STUFF BEFORE ADDING TO ABM_FUNCTIONS"
   ]
  },
  {
   "cell_type": "code",
   "execution_count": null,
   "metadata": {},
   "outputs": [],
   "source": [
    "company = create_company(company_titles, titles_n)"
   ]
  },
  {
   "cell_type": "code",
   "execution_count": null,
   "metadata": {},
   "outputs": [],
   "source": [
    "populate_company(company, weights)"
   ]
  },
  {
   "cell_type": "code",
   "execution_count": null,
   "metadata": {},
   "outputs": [],
   "source": [
    "gender_distribution = count_gender(company)"
   ]
  },
  {
   "cell_type": "code",
   "execution_count": null,
   "metadata": {},
   "outputs": [
    {
     "data": {
      "text/plain": [
       "19"
      ]
     },
     "execution_count": 7,
     "metadata": {},
     "output_type": "execute_result"
    }
   ],
   "source": [
    "gender_distribution[0][0]"
   ]
  },
  {
   "cell_type": "code",
   "execution_count": null,
   "metadata": {},
   "outputs": [
    {
     "data": {
      "text/plain": [
       "(0.31,\n",
       " 0.2793333333333333,\n",
       " 0.2262,\n",
       " 0.16714285714285715,\n",
       " 0.12944444444444442,\n",
       " 0.04730769230769233)"
      ]
     },
     "execution_count": 8,
     "metadata": {},
     "output_type": "execute_result"
    }
   ],
   "source": [
    "get_bias(company, scale = 1)"
   ]
  },
  {
   "cell_type": "code",
   "execution_count": null,
   "metadata": {},
   "outputs": [
    {
     "ename": "NameError",
     "evalue": "name 'diversity_bias_scaler' is not defined",
     "output_type": "error",
     "traceback": [
      "\u001b[0;31m---------------------------------------------------------------------------\u001b[0m",
      "\u001b[0;31mNameError\u001b[0m                                 Traceback (most recent call last)",
      "\u001b[0;32m/var/folders/4t/gp67d4t56ysgr041byyd6shr0000gn/T/ipykernel_19295/1642691624.py\u001b[0m in \u001b[0;36m<module>\u001b[0;34m\u001b[0m\n\u001b[1;32m      6\u001b[0m \u001b[0;34m\u001b[0m\u001b[0m\n\u001b[1;32m      7\u001b[0m \u001b[0;32melse\u001b[0m\u001b[0;34m:\u001b[0m\u001b[0;34m\u001b[0m\u001b[0;34m\u001b[0m\u001b[0m\n\u001b[0;32m----> 8\u001b[0;31m     \u001b[0mdiversity_bias\u001b[0m \u001b[0;34m=\u001b[0m \u001b[0;34m(\u001b[0m\u001b[0mpercent_women\u001b[0m \u001b[0;34m-\u001b[0m \u001b[0mthreshold\u001b[0m\u001b[0;34m)\u001b[0m \u001b[0;34m*\u001b[0m \u001b[0mdiversity_bias_scaler\u001b[0m\u001b[0;34m\u001b[0m\u001b[0;34m\u001b[0m\u001b[0m\n\u001b[0m",
      "\u001b[0;31mNameError\u001b[0m: name 'diversity_bias_scaler' is not defined"
     ]
    }
   ],
   "source": [
    "threshold = 0.5\n",
    "percent_women = (gender_distribution[0][4]/(gender_distribution[0][4] + gender_distribution[1][4]))\n",
    "\n",
    "if percent_women > threshold:\n",
    "    diversity_bias = 0\n",
    "\n",
    "else:\n",
    "    diversity_bias = (percent_women - threshold) * diversity_bias_scaler\n"
   ]
  },
  {
   "cell_type": "code",
   "execution_count": null,
   "metadata": {},
   "outputs": [
    {
     "data": {
      "text/plain": [
       "-0.14600000000000002"
      ]
     },
     "execution_count": 34,
     "metadata": {},
     "output_type": "execute_result"
    }
   ],
   "source": [
    "diversity_bias"
   ]
  },
  {
   "cell_type": "markdown",
   "metadata": {},
   "source": [
    "## Mckinsey data\n",
    "**2017**\n",
    "entry level: 52, 48\n",
    "manager: 63, 37\n",
    "senior manager: 67, 33 \n",
    "vice president: 72, 28 \n",
    "senior vice president: 79, 21 \n",
    "c-suite: 79, 21 \n",
    "\n",
    "**2018**\n",
    "entry level: 52, 48\n",
    "manager: 62, 38\n",
    "senior manager: 66, 34 \n",
    "vice president: 71, 29 \n",
    "senior vice president: 77, 23 \n",
    "c-suite: 78, 22 \n",
    "\n",
    "**2019**\n",
    "entry level: 52, 48\n",
    "manager: 62, 38\n",
    "senior manager: 65, 35\n",
    "vice president: 69, 31 \n",
    "senior vice president: 74, 26\n",
    "c-suite: 78, 22 \n",
    "\n",
    "**2020**\n",
    "entry level: 53, 47\n",
    "manager: 62, 38\n",
    "senior manager: 67, 33\n",
    "vice president: 71, 29\n",
    "senior vice president: 72, 28\n",
    "c-suite: 79, 21 \n",
    "\n",
    "**2021**\n",
    "entry level: 52, 48\n",
    "manager: 59, 41\n",
    "senior manager: 65, 35\n",
    "vice president: 70, 30\n",
    "senior vice president: 73, 27\n",
    "c-suite: 76, 24 \n",
    "\n",
    "\n",
    "\n",
    "## Parental leave data"
   ]
  }
 ],
 "metadata": {
  "interpreter": {
   "hash": "bbfd61b9771b25adb48756b02878e03699aa9c48f369525daaaa61fe69c4b1b3"
  },
  "kernelspec": {
   "display_name": "Python 3.9.7 ('methods3')",
   "language": "python",
   "name": "python3"
  },
  "language_info": {
   "codemirror_mode": {
    "name": "ipython",
    "version": 3
   },
   "file_extension": ".py",
   "mimetype": "text/x-python",
   "name": "python",
   "nbconvert_exporter": "python",
   "pygments_lexer": "ipython3",
   "version": "3.9.7"
  },
  "orig_nbformat": 4
 },
 "nbformat": 4,
 "nbformat_minor": 2
}
