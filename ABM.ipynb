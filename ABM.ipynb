{
 "cells": [
  {
   "cell_type": "markdown",
   "metadata": {},
   "source": [
    "# Agent-based modelling"
   ]
  },
  {
   "cell_type": "code",
   "execution_count": 1,
   "metadata": {},
   "outputs": [],
   "source": [
    "from ABM_functions import *\n",
    "from helper_functions import *\n",
    "import pandas as pd\n",
    "import matplotlib.pyplot as plt"
   ]
  },
  {
   "cell_type": "markdown",
   "metadata": {},
   "source": [
    "#### Setting up parameters"
   ]
  },
  {
   "cell_type": "code",
   "execution_count": 11,
   "metadata": {},
   "outputs": [],
   "source": [
    "company_titles = ['Level 1', 'Level 2', 'Level 3', 'Level 4', 'Level 5', 'Level 6'] # job titles for agents in company\n",
    "n = 15\n",
    "titles_n = [n, n*4**1, n*4**2, n*4**3,  n*4**4,  n*4**4] # number of agents in each job title\n",
    "\n",
    "# weights for generating agents (populating company + new agents at the lowest level)\n",
    "# possibly create a function for this?\n",
    "\n",
    "\n",
    "weights = {\n",
    "    'Level 1':{\n",
    "        'weights': [0.81, 0.19], # first weight is male, second is female\n",
    "        'age': [56, 5], # mean and standard deviation for random.gauss function\n",
    "        'seniority': [8, 2], # mean and standard deviation for random.gauss function\n",
    "        'fire': [0.011, 1-0.011], # first is weight of being fired, second is weight of not being fired\n",
    "        'seniority_position': [3, 1], # first is true, second is false\n",
    "        'candidates': 10}, # number of candidates to be considered for promotion to this level\n",
    "    'Level 2':{\n",
    "        'weights': [0.76, 0.24], \n",
    "        'age': [52, 5],\n",
    "        'seniority': [7, 2],\n",
    "        'fire': [0.011, 1-0.011],\n",
    "        'seniority_position': [3, 1],\n",
    "        'candidates': 10},\n",
    "    'Level 3':{\n",
    "        'weights': [0.71, 0.29],\n",
    "        'age': [52, 8],\n",
    "        'seniority': [6, 2],\n",
    "        'fire': [0.011, 1-0.011],\n",
    "        'seniority_position': [3, 1],\n",
    "        'candidates': 10},\n",
    "    'Level 4':{\n",
    "        'weights': [0.67, 0.33], \n",
    "        'age': [44, 8],\n",
    "        'seniority': [5, 2],\n",
    "        'fire': [0.011, 1-0.011],\n",
    "        'seniority_position': [3, 1],\n",
    "        'candidates': 10}, \n",
    "    'Level 5':{\n",
    "        'weights': [0.63, 0.37],\n",
    "        'age': [44, 8],\n",
    "        'seniority': [4, 1],\n",
    "        'fire': [0.011, 1-0.011],\n",
    "        'seniority_position': [3, 1],\n",
    "        'candidates': 10},\n",
    "    'Level 6':{\n",
    "        'weights': [0.54, 0.46], \n",
    "        'age': [30, 8],\n",
    "        'seniority':[3, 1],\n",
    "        'fire': [0.011, 1-0.011],\n",
    "        'seniority_position': [3, 1]}\n",
    "    }\n"
   ]
  },
  {
   "cell_type": "markdown",
   "metadata": {},
   "source": [
    "## Running the agent-based model for the period we have data for"
   ]
  },
  {
   "cell_type": "code",
   "execution_count": 14,
   "metadata": {},
   "outputs": [
    {
     "name": "stdout",
     "output_type": "stream",
     "text": [
      "tick 0 done\n",
      "tick 1 done\n",
      "tick 2 done\n",
      "tick 3 done\n",
      "tick 4 done\n",
      "tick 5 done\n",
      "tick 6 done\n",
      "tick 7 done\n",
      "tick 8 done\n",
      "tick 9 done\n",
      "tick 10 done\n"
     ]
    }
   ],
   "source": [
    "run_abm(months = 60,\n",
    "        save_path = 'data/data.csv',\n",
    "        company_titles = company_titles, # the job titles in the company\n",
    "        titles_n = titles_n, # the number of employees with each of the titles\n",
    "        weights = weights, # the weights for generating agents\n",
    "        bias_scaler = 1, # the scaler for the bias calculated (negative = positive bias towards women, positive = positive bias towards men)\n",
    "        diversity_bias_scaler = 6,\n",
    "        threshold = [0.30, 0.40, 0.40, 0.45, 0.45, 0.50],\n",
    "        months_pl = 12,\n",
    "        plot_each_tick = False)"
   ]
  },
  {
   "cell_type": "markdown",
   "metadata": {},
   "source": [
    "## Interventions"
   ]
  },
  {
   "cell_type": "code",
   "execution_count": 9,
   "metadata": {},
   "outputs": [],
   "source": [
    "# reading in the company as is after the simulation of the time we have data for\n",
    "company_validated = pd.read_pickle('data/company_laura.pkl')"
   ]
  },
  {
   "cell_type": "markdown",
   "metadata": {},
   "source": [
    "#### Shared parental leave?\n",
    "* Make sure that company_validated is used\n",
    "* Make sure probabilty of parental leave is half the value of that in the validation simulation\n",
    "\n",
    "\n",
    "The current simulation assumes no change in the bias"
   ]
  },
  {
   "cell_type": "code",
   "execution_count": 10,
   "metadata": {},
   "outputs": [
    {
     "name": "stdout",
     "output_type": "stream",
     "text": [
      "tick 0 done\n",
      "tick 1 done\n",
      "tick 2 done\n",
      "tick 3 done\n",
      "tick 4 done\n",
      "tick 5 done\n",
      "tick 6 done\n",
      "tick 7 done\n",
      "tick 8 done\n",
      "tick 9 done\n",
      "tick 10 done\n",
      "tick 11 done\n",
      "tick 12 done\n"
     ]
    },
    {
     "ename": "KeyboardInterrupt",
     "evalue": "",
     "output_type": "error",
     "traceback": [
      "\u001b[0;31m---------------------------------------------------------------------------\u001b[0m",
      "\u001b[0;31mKeyboardInterrupt\u001b[0m                         Traceback (most recent call last)",
      "\u001b[0;32m/var/folders/4t/gp67d4t56ysgr041byyd6shr0000gn/T/ipykernel_1669/1997426089.py\u001b[0m in \u001b[0;36m<module>\u001b[0;34m\u001b[0m\n\u001b[0;32m----> 1\u001b[0;31m run_abm(months = 5*12,\n\u001b[0m\u001b[1;32m      2\u001b[0m         \u001b[0msave_path\u001b[0m\u001b[0;34m=\u001b[0m\u001b[0;34m'data/data_shared_parental.csv'\u001b[0m\u001b[0;34m,\u001b[0m \u001b[0;31m# the path for saving the data\u001b[0m\u001b[0;34m\u001b[0m\u001b[0;34m\u001b[0m\u001b[0m\n\u001b[1;32m      3\u001b[0m         \u001b[0mcompany_titles\u001b[0m \u001b[0;34m=\u001b[0m \u001b[0mcompany_titles\u001b[0m\u001b[0;34m,\u001b[0m \u001b[0;31m# the job titles in the company\u001b[0m\u001b[0;34m\u001b[0m\u001b[0;34m\u001b[0m\u001b[0m\n\u001b[1;32m      4\u001b[0m         \u001b[0mtitles_n\u001b[0m \u001b[0;34m=\u001b[0m \u001b[0mtitles_n\u001b[0m\u001b[0;34m,\u001b[0m \u001b[0;31m# the number of employees with each of the titles\u001b[0m\u001b[0;34m\u001b[0m\u001b[0;34m\u001b[0m\u001b[0m\n\u001b[1;32m      5\u001b[0m         \u001b[0mweights\u001b[0m \u001b[0;34m=\u001b[0m \u001b[0mweights\u001b[0m\u001b[0;34m,\u001b[0m \u001b[0;31m# the weights for generating agents\u001b[0m\u001b[0;34m\u001b[0m\u001b[0;34m\u001b[0m\u001b[0m\n",
      "\u001b[0;32m~/Desktop/Sockult-exam/agentbased_modelling/ABM_functions.py\u001b[0m in \u001b[0;36mrun_abm\u001b[0;34m(months, save_path, company_titles, titles_n, weights, bias_scaler, plot_each_tick, months_pl, threshold, diversity_bias_scaler, intervention, company)\u001b[0m\n\u001b[1;32m    453\u001b[0m \u001b[0;34m\u001b[0m\u001b[0m\n\u001b[1;32m    454\u001b[0m                 \u001b[0mdat\u001b[0m \u001b[0;34m=\u001b[0m \u001b[0;34m{\u001b[0m\u001b[0;34m'id'\u001b[0m\u001b[0;34m:\u001b[0m \u001b[0mcompany\u001b[0m\u001b[0;34m[\u001b[0m\u001b[0mi\u001b[0m\u001b[0;34m]\u001b[0m\u001b[0;34m[\u001b[0m\u001b[0mj\u001b[0m\u001b[0;34m]\u001b[0m\u001b[0;34m.\u001b[0m\u001b[0mid\u001b[0m\u001b[0;34m,\u001b[0m \u001b[0;34m'gender'\u001b[0m\u001b[0;34m:\u001b[0m \u001b[0mcompany\u001b[0m\u001b[0;34m[\u001b[0m\u001b[0mi\u001b[0m\u001b[0;34m]\u001b[0m\u001b[0;34m[\u001b[0m\u001b[0mj\u001b[0m\u001b[0;34m]\u001b[0m\u001b[0;34m.\u001b[0m\u001b[0mgender\u001b[0m\u001b[0;34m[\u001b[0m\u001b[0;36m0\u001b[0m\u001b[0;34m]\u001b[0m\u001b[0;34m,\u001b[0m \u001b[0;34m'age'\u001b[0m\u001b[0;34m:\u001b[0m \u001b[0mcompany\u001b[0m\u001b[0;34m[\u001b[0m\u001b[0mi\u001b[0m\u001b[0;34m]\u001b[0m\u001b[0;34m[\u001b[0m\u001b[0mj\u001b[0m\u001b[0;34m]\u001b[0m\u001b[0;34m.\u001b[0m\u001b[0mage\u001b[0m\u001b[0;34m,\u001b[0m \u001b[0;34m'seniority'\u001b[0m\u001b[0;34m:\u001b[0m \u001b[0mcompany\u001b[0m\u001b[0;34m[\u001b[0m\u001b[0mi\u001b[0m\u001b[0;34m]\u001b[0m\u001b[0;34m[\u001b[0m\u001b[0mj\u001b[0m\u001b[0;34m]\u001b[0m\u001b[0;34m.\u001b[0m\u001b[0mseniority\u001b[0m\u001b[0;34m,\u001b[0m \u001b[0;34m'seniority_pos'\u001b[0m\u001b[0;34m:\u001b[0m \u001b[0mcompany\u001b[0m\u001b[0;34m[\u001b[0m\u001b[0mi\u001b[0m\u001b[0;34m]\u001b[0m\u001b[0;34m[\u001b[0m\u001b[0mj\u001b[0m\u001b[0;34m]\u001b[0m\u001b[0;34m.\u001b[0m\u001b[0mseniority_position\u001b[0m\u001b[0;34m,\u001b[0m \u001b[0;34m'parental_leave'\u001b[0m\u001b[0;34m:\u001b[0m \u001b[0mcompany\u001b[0m\u001b[0;34m[\u001b[0m\u001b[0mi\u001b[0m\u001b[0;34m]\u001b[0m\u001b[0;34m[\u001b[0m\u001b[0mj\u001b[0m\u001b[0;34m]\u001b[0m\u001b[0;34m.\u001b[0m\u001b[0mparental_leave\u001b[0m\u001b[0;34m,\u001b[0m \u001b[0;34m'position'\u001b[0m\u001b[0;34m:\u001b[0m \u001b[0mcompany\u001b[0m\u001b[0;34m[\u001b[0m\u001b[0mi\u001b[0m\u001b[0;34m]\u001b[0m\u001b[0;34m[\u001b[0m\u001b[0mj\u001b[0m\u001b[0;34m]\u001b[0m\u001b[0;34m.\u001b[0m\u001b[0mposition\u001b[0m\u001b[0;34m,\u001b[0m \u001b[0;34m'tick'\u001b[0m\u001b[0;34m:\u001b[0m \u001b[0mmonth\u001b[0m\u001b[0;34m}\u001b[0m\u001b[0;34m\u001b[0m\u001b[0;34m\u001b[0m\u001b[0m\n\u001b[0;32m--> 455\u001b[0;31m                 \u001b[0madata\u001b[0m \u001b[0;34m=\u001b[0m \u001b[0madata\u001b[0m\u001b[0;34m.\u001b[0m\u001b[0mappend\u001b[0m\u001b[0;34m(\u001b[0m\u001b[0mdat\u001b[0m\u001b[0;34m,\u001b[0m \u001b[0mignore_index\u001b[0m\u001b[0;34m=\u001b[0m\u001b[0;32mTrue\u001b[0m\u001b[0;34m,\u001b[0m \u001b[0mverify_integrity\u001b[0m\u001b[0;34m=\u001b[0m\u001b[0;32mFalse\u001b[0m\u001b[0;34m,\u001b[0m \u001b[0msort\u001b[0m\u001b[0;34m=\u001b[0m\u001b[0;32mFalse\u001b[0m\u001b[0;34m)\u001b[0m\u001b[0;34m\u001b[0m\u001b[0;34m\u001b[0m\u001b[0m\n\u001b[0m\u001b[1;32m    456\u001b[0m \u001b[0;34m\u001b[0m\u001b[0m\n\u001b[1;32m    457\u001b[0m         \u001b[0;31m# plotting and appending data to data frame\u001b[0m\u001b[0;34m\u001b[0m\u001b[0;34m\u001b[0m\u001b[0m\n",
      "\u001b[0;32m/usr/local/Caskroom/miniconda/base/envs/methods3/lib/python3.9/site-packages/pandas/core/frame.py\u001b[0m in \u001b[0;36mappend\u001b[0;34m(self, other, ignore_index, verify_integrity, sort)\u001b[0m\n\u001b[1;32m   8963\u001b[0m             \u001b[0mto_concat\u001b[0m \u001b[0;34m=\u001b[0m \u001b[0;34m[\u001b[0m\u001b[0mself\u001b[0m\u001b[0;34m,\u001b[0m \u001b[0mother\u001b[0m\u001b[0;34m]\u001b[0m\u001b[0;34m\u001b[0m\u001b[0;34m\u001b[0m\u001b[0m\n\u001b[1;32m   8964\u001b[0m         return (\n\u001b[0;32m-> 8965\u001b[0;31m             concat(\n\u001b[0m\u001b[1;32m   8966\u001b[0m                 \u001b[0mto_concat\u001b[0m\u001b[0;34m,\u001b[0m\u001b[0;34m\u001b[0m\u001b[0;34m\u001b[0m\u001b[0m\n\u001b[1;32m   8967\u001b[0m                 \u001b[0mignore_index\u001b[0m\u001b[0;34m=\u001b[0m\u001b[0mignore_index\u001b[0m\u001b[0;34m,\u001b[0m\u001b[0;34m\u001b[0m\u001b[0;34m\u001b[0m\u001b[0m\n",
      "\u001b[0;32m/usr/local/Caskroom/miniconda/base/envs/methods3/lib/python3.9/site-packages/pandas/util/_decorators.py\u001b[0m in \u001b[0;36mwrapper\u001b[0;34m(*args, **kwargs)\u001b[0m\n\u001b[1;32m    309\u001b[0m                     \u001b[0mstacklevel\u001b[0m\u001b[0;34m=\u001b[0m\u001b[0mstacklevel\u001b[0m\u001b[0;34m,\u001b[0m\u001b[0;34m\u001b[0m\u001b[0;34m\u001b[0m\u001b[0m\n\u001b[1;32m    310\u001b[0m                 )\n\u001b[0;32m--> 311\u001b[0;31m             \u001b[0;32mreturn\u001b[0m \u001b[0mfunc\u001b[0m\u001b[0;34m(\u001b[0m\u001b[0;34m*\u001b[0m\u001b[0margs\u001b[0m\u001b[0;34m,\u001b[0m \u001b[0;34m**\u001b[0m\u001b[0mkwargs\u001b[0m\u001b[0;34m)\u001b[0m\u001b[0;34m\u001b[0m\u001b[0;34m\u001b[0m\u001b[0m\n\u001b[0m\u001b[1;32m    312\u001b[0m \u001b[0;34m\u001b[0m\u001b[0m\n\u001b[1;32m    313\u001b[0m         \u001b[0;32mreturn\u001b[0m \u001b[0mwrapper\u001b[0m\u001b[0;34m\u001b[0m\u001b[0;34m\u001b[0m\u001b[0m\n",
      "\u001b[0;32m/usr/local/Caskroom/miniconda/base/envs/methods3/lib/python3.9/site-packages/pandas/core/reshape/concat.py\u001b[0m in \u001b[0;36mconcat\u001b[0;34m(objs, axis, join, ignore_index, keys, levels, names, verify_integrity, sort, copy)\u001b[0m\n\u001b[1;32m    305\u001b[0m     )\n\u001b[1;32m    306\u001b[0m \u001b[0;34m\u001b[0m\u001b[0m\n\u001b[0;32m--> 307\u001b[0;31m     \u001b[0;32mreturn\u001b[0m \u001b[0mop\u001b[0m\u001b[0;34m.\u001b[0m\u001b[0mget_result\u001b[0m\u001b[0;34m(\u001b[0m\u001b[0;34m)\u001b[0m\u001b[0;34m\u001b[0m\u001b[0;34m\u001b[0m\u001b[0m\n\u001b[0m\u001b[1;32m    308\u001b[0m \u001b[0;34m\u001b[0m\u001b[0m\n\u001b[1;32m    309\u001b[0m \u001b[0;34m\u001b[0m\u001b[0m\n",
      "\u001b[0;32m/usr/local/Caskroom/miniconda/base/envs/methods3/lib/python3.9/site-packages/pandas/core/reshape/concat.py\u001b[0m in \u001b[0;36mget_result\u001b[0;34m(self)\u001b[0m\n\u001b[1;32m    530\u001b[0m                 \u001b[0mmgrs_indexers\u001b[0m\u001b[0;34m.\u001b[0m\u001b[0mappend\u001b[0m\u001b[0;34m(\u001b[0m\u001b[0;34m(\u001b[0m\u001b[0mobj\u001b[0m\u001b[0;34m.\u001b[0m\u001b[0m_mgr\u001b[0m\u001b[0;34m,\u001b[0m \u001b[0mindexers\u001b[0m\u001b[0;34m)\u001b[0m\u001b[0;34m)\u001b[0m\u001b[0;34m\u001b[0m\u001b[0;34m\u001b[0m\u001b[0m\n\u001b[1;32m    531\u001b[0m \u001b[0;34m\u001b[0m\u001b[0m\n\u001b[0;32m--> 532\u001b[0;31m             new_data = concatenate_managers(\n\u001b[0m\u001b[1;32m    533\u001b[0m                 \u001b[0mmgrs_indexers\u001b[0m\u001b[0;34m,\u001b[0m \u001b[0mself\u001b[0m\u001b[0;34m.\u001b[0m\u001b[0mnew_axes\u001b[0m\u001b[0;34m,\u001b[0m \u001b[0mconcat_axis\u001b[0m\u001b[0;34m=\u001b[0m\u001b[0mself\u001b[0m\u001b[0;34m.\u001b[0m\u001b[0mbm_axis\u001b[0m\u001b[0;34m,\u001b[0m \u001b[0mcopy\u001b[0m\u001b[0;34m=\u001b[0m\u001b[0mself\u001b[0m\u001b[0;34m.\u001b[0m\u001b[0mcopy\u001b[0m\u001b[0;34m\u001b[0m\u001b[0;34m\u001b[0m\u001b[0m\n\u001b[1;32m    534\u001b[0m             )\n",
      "\u001b[0;32m/usr/local/Caskroom/miniconda/base/envs/methods3/lib/python3.9/site-packages/pandas/core/internals/concat.py\u001b[0m in \u001b[0;36mconcatenate_managers\u001b[0;34m(mgrs_indexers, axes, concat_axis, copy)\u001b[0m\n\u001b[1;32m    214\u001b[0m                 \u001b[0;31m#  we can use np.concatenate, which is more performant\u001b[0m\u001b[0;34m\u001b[0m\u001b[0;34m\u001b[0m\u001b[0m\n\u001b[1;32m    215\u001b[0m                 \u001b[0;31m#  than concat_compat\u001b[0m\u001b[0;34m\u001b[0m\u001b[0;34m\u001b[0m\u001b[0m\n\u001b[0;32m--> 216\u001b[0;31m                 \u001b[0mvalues\u001b[0m \u001b[0;34m=\u001b[0m \u001b[0mnp\u001b[0m\u001b[0;34m.\u001b[0m\u001b[0mconcatenate\u001b[0m\u001b[0;34m(\u001b[0m\u001b[0mvals\u001b[0m\u001b[0;34m,\u001b[0m \u001b[0maxis\u001b[0m\u001b[0;34m=\u001b[0m\u001b[0mblk\u001b[0m\u001b[0;34m.\u001b[0m\u001b[0mndim\u001b[0m \u001b[0;34m-\u001b[0m \u001b[0;36m1\u001b[0m\u001b[0;34m)\u001b[0m\u001b[0;34m\u001b[0m\u001b[0;34m\u001b[0m\u001b[0m\n\u001b[0m\u001b[1;32m    217\u001b[0m             \u001b[0;32melse\u001b[0m\u001b[0;34m:\u001b[0m\u001b[0;34m\u001b[0m\u001b[0;34m\u001b[0m\u001b[0m\n\u001b[1;32m    218\u001b[0m                 \u001b[0;31m# TODO(EA2D): special-casing not needed with 2D EAs\u001b[0m\u001b[0;34m\u001b[0m\u001b[0;34m\u001b[0m\u001b[0m\n",
      "\u001b[0;32m<__array_function__ internals>\u001b[0m in \u001b[0;36mconcatenate\u001b[0;34m(*args, **kwargs)\u001b[0m\n",
      "\u001b[0;31mKeyboardInterrupt\u001b[0m: "
     ]
    }
   ],
   "source": [
    "run_abm(months = 5*12,\n",
    "        save_path='data/data_shared_parental.csv', # the path for saving the data\n",
    "        company_titles = company_titles, # the job titles in the company\n",
    "        titles_n = titles_n, # the number of employees with each of the titles\n",
    "        weights = weights, # the weights for generating agents\n",
    "        bias_scaler = 1, # the scaler for the bias calculated                                                       (negative = positive bias towards women, positive = positive bias towards men)\n",
    "        diversity_bias_scaler = 6,\n",
    "        threshold = [0.30, 0.40, 0.40, 0.45, 0.45, 0.50],\n",
    "        plot_each_tick = False,\n",
    "        intervention = 'shared_parental',\n",
    "        months_pl = 6,\n",
    "        company = company_validated)"
   ]
  },
  {
   "cell_type": "markdown",
   "metadata": {},
   "source": [
    "### Longer shortlists"
   ]
  },
  {
   "cell_type": "code",
   "execution_count": 9,
   "metadata": {},
   "outputs": [
    {
     "name": "stdout",
     "output_type": "stream",
     "text": [
      "tick 0 done\n",
      "tick 1 done\n",
      "tick 2 done\n",
      "tick 3 done\n",
      "tick 4 done\n",
      "tick 5 done\n",
      "tick 6 done\n",
      "tick 7 done\n",
      "tick 8 done\n",
      "tick 9 done\n",
      "tick 10 done\n",
      "tick 11 done\n",
      "tick 12 done\n",
      "tick 13 done\n",
      "tick 14 done\n",
      "tick 15 done\n",
      "tick 16 done\n",
      "tick 17 done\n",
      "tick 18 done\n",
      "tick 19 done\n",
      "tick 20 done\n",
      "tick 21 done\n",
      "tick 22 done\n",
      "tick 23 done\n",
      "tick 24 done\n",
      "tick 25 done\n",
      "tick 26 done\n",
      "tick 27 done\n",
      "tick 28 done\n",
      "tick 29 done\n",
      "tick 30 done\n",
      "tick 31 done\n",
      "tick 32 done\n",
      "tick 33 done\n",
      "tick 34 done\n",
      "tick 35 done\n",
      "tick 36 done\n",
      "tick 37 done\n",
      "tick 38 done\n",
      "tick 39 done\n",
      "tick 40 done\n",
      "tick 41 done\n",
      "tick 42 done\n",
      "tick 43 done\n",
      "tick 44 done\n",
      "tick 45 done\n",
      "tick 46 done\n",
      "tick 47 done\n",
      "tick 48 done\n",
      "tick 49 done\n",
      "tick 50 done\n",
      "tick 51 done\n",
      "tick 52 done\n",
      "tick 53 done\n",
      "tick 54 done\n",
      "tick 55 done\n",
      "tick 56 done\n",
      "tick 57 done\n",
      "tick 58 done\n",
      "tick 59 done\n"
     ]
    },
    {
     "data": {
      "image/png": "[encoded data removed]",
      "text/plain": [
       "<Figure size 864x360 with 6 Axes>"
      ]
     },
     "metadata": {
      "needs_background": "light"
     },
     "output_type": "display_data"
    }
   ],
   "source": [
    "run_abm(months = 5*12,\n",
    "        save_path='data/data_shortlist.csv', # the path for saving the data\n",
    "        company_titles = company_titles, # the job titles in the company\n",
    "        titles_n = titles_n, # the number of employees with each of the titles\n",
    "        weights = weights, # the weights for generating agents\n",
    "        bias_scaler = 1, # the scaler for the bias calculated (negative = positive bias towards women, positive = positive bias towards men)\n",
    "        diversity_bias_scaler = 6,\n",
    "        threshold = [0.30, 0.40, 0.40, 0.45, 0.45, 0.50],\n",
    "        plot_each_tick = False,\n",
    "        intervention = 'shortlist',\n",
    "        months_pl = 12,\n",
    "        company = company_validated)"
   ]
  },
  {
   "cell_type": "markdown",
   "metadata": {},
   "source": [
    "#### Blinding\n",
    "The bias added before choosing the candidates in the other simulations are removed. Instead the bias is added after the short list has been made."
   ]
  },
  {
   "cell_type": "code",
   "execution_count": 10,
   "metadata": {},
   "outputs": [
    {
     "name": "stdout",
     "output_type": "stream",
     "text": [
      "tick 0 done\n",
      "tick 1 done\n",
      "tick 2 done\n",
      "tick 3 done\n",
      "tick 4 done\n",
      "tick 5 done\n",
      "tick 6 done\n",
      "tick 7 done\n",
      "tick 8 done\n",
      "tick 9 done\n",
      "tick 10 done\n",
      "tick 11 done\n",
      "tick 12 done\n",
      "tick 13 done\n",
      "tick 14 done\n",
      "tick 15 done\n",
      "tick 16 done\n",
      "tick 17 done\n",
      "tick 18 done\n",
      "tick 19 done\n",
      "tick 20 done\n",
      "tick 21 done\n",
      "tick 22 done\n",
      "tick 23 done\n",
      "tick 24 done\n",
      "tick 25 done\n",
      "tick 26 done\n",
      "tick 27 done\n",
      "tick 28 done\n",
      "tick 29 done\n",
      "tick 30 done\n",
      "tick 31 done\n",
      "tick 32 done\n",
      "tick 33 done\n",
      "tick 34 done\n",
      "tick 35 done\n",
      "tick 36 done\n",
      "tick 37 done\n",
      "tick 38 done\n",
      "tick 39 done\n",
      "tick 40 done\n",
      "tick 41 done\n",
      "tick 42 done\n",
      "tick 43 done\n",
      "tick 44 done\n",
      "tick 45 done\n",
      "tick 46 done\n",
      "tick 47 done\n",
      "tick 48 done\n",
      "tick 49 done\n",
      "tick 50 done\n",
      "tick 51 done\n",
      "tick 52 done\n",
      "tick 53 done\n",
      "tick 54 done\n",
      "tick 55 done\n",
      "tick 56 done\n",
      "tick 57 done\n",
      "tick 58 done\n",
      "tick 59 done\n"
     ]
    },
    {
     "data": {
      "image/png": "[encoded data removed]",
      "text/plain": [
       "<Figure size 864x360 with 6 Axes>"
      ]
     },
     "metadata": {
      "needs_background": "light"
     },
     "output_type": "display_data"
    }
   ],
   "source": [
    "run_abm(months = 5*12,\n",
    "        save_path='data/data_blinding.csv', # the path for saving the data\n",
    "        company_titles = company_titles, # the job titles in the company\n",
    "        titles_n = titles_n, # the number of employees with each of the titles\n",
    "        weights = weights, # the weights for generating agents\n",
    "        bias_scaler = 1, # the scaler for the bias calculated (negative = positive bias towards women, positive = positive bias towards men)\n",
    "        diversity_bias_scaler = 6,\n",
    "        threshold = [0.30, 0.40, 0.40, 0.45, 0.45, 0.50],\n",
    "        plot_each_tick = False,\n",
    "        intervention = 'blinding',\n",
    "        months_pl = 12,\n",
    "        company = company_validated)"
   ]
  },
  {
   "cell_type": "markdown",
   "metadata": {},
   "source": [
    "# No interventions\n"
   ]
  },
  {
   "cell_type": "code",
   "execution_count": 6,
   "metadata": {},
   "outputs": [
    {
     "name": "stdout",
     "output_type": "stream",
     "text": [
      "tick 0 done\n",
      "tick 1 done\n",
      "tick 2 done\n",
      "tick 3 done\n",
      "tick 4 done\n",
      "tick 5 done\n",
      "tick 6 done\n",
      "tick 7 done\n",
      "tick 8 done\n",
      "tick 9 done\n",
      "tick 10 done\n",
      "tick 11 done\n",
      "tick 12 done\n",
      "tick 13 done\n",
      "tick 14 done\n",
      "tick 15 done\n",
      "tick 16 done\n",
      "tick 17 done\n",
      "tick 18 done\n",
      "tick 19 done\n",
      "tick 20 done\n",
      "tick 21 done\n",
      "tick 22 done\n",
      "tick 23 done\n",
      "tick 24 done\n",
      "tick 25 done\n",
      "tick 26 done\n",
      "tick 27 done\n",
      "tick 28 done\n",
      "tick 29 done\n",
      "tick 30 done\n",
      "tick 31 done\n",
      "tick 32 done\n",
      "tick 33 done\n",
      "tick 34 done\n",
      "tick 35 done\n",
      "tick 36 done\n",
      "tick 37 done\n",
      "tick 38 done\n",
      "tick 39 done\n",
      "tick 40 done\n",
      "tick 41 done\n",
      "tick 42 done\n",
      "tick 43 done\n"
     ]
    },
    {
     "ename": "KeyboardInterrupt",
     "evalue": "",
     "output_type": "error",
     "traceback": [
      "\u001b[0;31m---------------------------------------------------------------------------\u001b[0m",
      "\u001b[0;31mKeyboardInterrupt\u001b[0m                         Traceback (most recent call last)",
      "\u001b[0;32m/var/folders/4t/gp67d4t56ysgr041byyd6shr0000gn/T/ipykernel_1669/444888749.py\u001b[0m in \u001b[0;36m<module>\u001b[0;34m\u001b[0m\n\u001b[0;32m----> 1\u001b[0;31m run_abm(months = 5*12,\n\u001b[0m\u001b[1;32m      2\u001b[0m         \u001b[0msave_path\u001b[0m\u001b[0;34m=\u001b[0m\u001b[0;34m'data/data_no_intervention.csv'\u001b[0m\u001b[0;34m,\u001b[0m \u001b[0;31m# the path for saving the data\u001b[0m\u001b[0;34m\u001b[0m\u001b[0;34m\u001b[0m\u001b[0m\n\u001b[1;32m      3\u001b[0m         \u001b[0mcompany_titles\u001b[0m \u001b[0;34m=\u001b[0m \u001b[0mcompany_titles\u001b[0m\u001b[0;34m,\u001b[0m \u001b[0;31m# the job titles in the company\u001b[0m\u001b[0;34m\u001b[0m\u001b[0;34m\u001b[0m\u001b[0m\n\u001b[1;32m      4\u001b[0m         \u001b[0mtitles_n\u001b[0m \u001b[0;34m=\u001b[0m \u001b[0mtitles_n\u001b[0m\u001b[0;34m,\u001b[0m \u001b[0;31m# the number of employees with each of the titles\u001b[0m\u001b[0;34m\u001b[0m\u001b[0;34m\u001b[0m\u001b[0m\n\u001b[1;32m      5\u001b[0m         \u001b[0mweights\u001b[0m \u001b[0;34m=\u001b[0m \u001b[0mweights\u001b[0m\u001b[0;34m,\u001b[0m \u001b[0;31m# the weights for generating agents\u001b[0m\u001b[0;34m\u001b[0m\u001b[0;34m\u001b[0m\u001b[0m\n",
      "\u001b[0;32m~/Desktop/Sockult-exam/agentbased_modelling/ABM_functions.py\u001b[0m in \u001b[0;36mrun_abm\u001b[0;34m(months, save_path, company_titles, titles_n, weights, bias_scaler, plot_each_tick, months_pl, threshold, diversity_bias_scaler, intervention, company)\u001b[0m\n\u001b[1;32m    453\u001b[0m \u001b[0;34m\u001b[0m\u001b[0m\n\u001b[1;32m    454\u001b[0m                 \u001b[0mdat\u001b[0m \u001b[0;34m=\u001b[0m \u001b[0;34m{\u001b[0m\u001b[0;34m'id'\u001b[0m\u001b[0;34m:\u001b[0m \u001b[0mcompany\u001b[0m\u001b[0;34m[\u001b[0m\u001b[0mi\u001b[0m\u001b[0;34m]\u001b[0m\u001b[0;34m[\u001b[0m\u001b[0mj\u001b[0m\u001b[0;34m]\u001b[0m\u001b[0;34m.\u001b[0m\u001b[0mid\u001b[0m\u001b[0;34m,\u001b[0m \u001b[0;34m'gender'\u001b[0m\u001b[0;34m:\u001b[0m \u001b[0mcompany\u001b[0m\u001b[0;34m[\u001b[0m\u001b[0mi\u001b[0m\u001b[0;34m]\u001b[0m\u001b[0;34m[\u001b[0m\u001b[0mj\u001b[0m\u001b[0;34m]\u001b[0m\u001b[0;34m.\u001b[0m\u001b[0mgender\u001b[0m\u001b[0;34m[\u001b[0m\u001b[0;36m0\u001b[0m\u001b[0;34m]\u001b[0m\u001b[0;34m,\u001b[0m \u001b[0;34m'age'\u001b[0m\u001b[0;34m:\u001b[0m \u001b[0mcompany\u001b[0m\u001b[0;34m[\u001b[0m\u001b[0mi\u001b[0m\u001b[0;34m]\u001b[0m\u001b[0;34m[\u001b[0m\u001b[0mj\u001b[0m\u001b[0;34m]\u001b[0m\u001b[0;34m.\u001b[0m\u001b[0mage\u001b[0m\u001b[0;34m,\u001b[0m \u001b[0;34m'seniority'\u001b[0m\u001b[0;34m:\u001b[0m \u001b[0mcompany\u001b[0m\u001b[0;34m[\u001b[0m\u001b[0mi\u001b[0m\u001b[0;34m]\u001b[0m\u001b[0;34m[\u001b[0m\u001b[0mj\u001b[0m\u001b[0;34m]\u001b[0m\u001b[0;34m.\u001b[0m\u001b[0mseniority\u001b[0m\u001b[0;34m,\u001b[0m \u001b[0;34m'seniority_pos'\u001b[0m\u001b[0;34m:\u001b[0m \u001b[0mcompany\u001b[0m\u001b[0;34m[\u001b[0m\u001b[0mi\u001b[0m\u001b[0;34m]\u001b[0m\u001b[0;34m[\u001b[0m\u001b[0mj\u001b[0m\u001b[0;34m]\u001b[0m\u001b[0;34m.\u001b[0m\u001b[0mseniority_position\u001b[0m\u001b[0;34m,\u001b[0m \u001b[0;34m'parental_leave'\u001b[0m\u001b[0;34m:\u001b[0m \u001b[0mcompany\u001b[0m\u001b[0;34m[\u001b[0m\u001b[0mi\u001b[0m\u001b[0;34m]\u001b[0m\u001b[0;34m[\u001b[0m\u001b[0mj\u001b[0m\u001b[0;34m]\u001b[0m\u001b[0;34m.\u001b[0m\u001b[0mparental_leave\u001b[0m\u001b[0;34m,\u001b[0m \u001b[0;34m'position'\u001b[0m\u001b[0;34m:\u001b[0m \u001b[0mcompany\u001b[0m\u001b[0;34m[\u001b[0m\u001b[0mi\u001b[0m\u001b[0;34m]\u001b[0m\u001b[0;34m[\u001b[0m\u001b[0mj\u001b[0m\u001b[0;34m]\u001b[0m\u001b[0;34m.\u001b[0m\u001b[0mposition\u001b[0m\u001b[0;34m,\u001b[0m \u001b[0;34m'tick'\u001b[0m\u001b[0;34m:\u001b[0m \u001b[0mmonth\u001b[0m\u001b[0;34m}\u001b[0m\u001b[0;34m\u001b[0m\u001b[0;34m\u001b[0m\u001b[0m\n\u001b[0;32m--> 455\u001b[0;31m                 \u001b[0madata\u001b[0m \u001b[0;34m=\u001b[0m \u001b[0madata\u001b[0m\u001b[0;34m.\u001b[0m\u001b[0mappend\u001b[0m\u001b[0;34m(\u001b[0m\u001b[0mdat\u001b[0m\u001b[0;34m,\u001b[0m \u001b[0mignore_index\u001b[0m\u001b[0;34m=\u001b[0m\u001b[0;32mTrue\u001b[0m\u001b[0;34m,\u001b[0m \u001b[0mverify_integrity\u001b[0m\u001b[0;34m=\u001b[0m\u001b[0;32mFalse\u001b[0m\u001b[0;34m,\u001b[0m \u001b[0msort\u001b[0m\u001b[0;34m=\u001b[0m\u001b[0;32mFalse\u001b[0m\u001b[0;34m)\u001b[0m\u001b[0;34m\u001b[0m\u001b[0;34m\u001b[0m\u001b[0m\n\u001b[0m\u001b[1;32m    456\u001b[0m \u001b[0;34m\u001b[0m\u001b[0m\n\u001b[1;32m    457\u001b[0m         \u001b[0;31m# plotting and appending data to data frame\u001b[0m\u001b[0;34m\u001b[0m\u001b[0;34m\u001b[0m\u001b[0m\n",
      "\u001b[0;31mKeyboardInterrupt\u001b[0m: "
     ]
    }
   ],
   "source": [
    "run_abm(months = 5*12,\n",
    "        save_path='data/data_no_intervention.csv', # the path for saving the data\n",
    "        company_titles = company_titles, # the job titles in the company\n",
    "        titles_n = titles_n, # the number of employees with each of the titles\n",
    "        weights = weights, # the weights for generating agents\n",
    "        bias_scaler = 1, # the scaler for the bias calculated (negative = positive bias towards women, positive = positive bias towards men)\n",
    "        diversity_bias_scaler = 6,\n",
    "        threshold = [0.30, 0.40, 0.40, 0.45, 0.45, 0.50],\n",
    "        plot_each_tick = False,\n",
    "        intervention = None,\n",
    "        months_pl = 12,\n",
    "        company = company_validated)"
   ]
  },
  {
   "cell_type": "markdown",
   "metadata": {},
   "source": [
    "## Mckinsey data\n",
    "**2017**\n",
    "entry level: 52, 48\n",
    "manager: 63, 37\n",
    "senior manager: 67, 33 \n",
    "vice president: 72, 28 \n",
    "senior vice president: 79, 21 \n",
    "c-suite: 79, 21 \n",
    "\n",
    "**2018**\n",
    "entry level: 52, 48\n",
    "manager: 62, 38\n",
    "senior manager: 66, 34 \n",
    "vice president: 71, 29 \n",
    "senior vice president: 77, 23 \n",
    "c-suite: 78, 22 \n",
    "\n",
    "**2019**\n",
    "entry level: 52, 48 \n",
    "manager: 62, 38\n",
    "senior manager: 65, 35\n",
    "vice president: 69, 31 \n",
    "senior vice president: 74, 26\n",
    "c-suite: 78, 22 \n",
    "\n",
    "**2020**\n",
    "entry level: 53, 47\n",
    "manager: 62, 38\n",
    "senior manager: 67, 33\n",
    "vice president: 71, 29\n",
    "senior vice president: 72, 28\n",
    "c-suite: 79, 21 \n",
    "\n",
    "**2021**\n",
    "entry level: 52, 48\n",
    "manager: 59, 41\n",
    "senior manager: 65, 35\n",
    "vice president: 70, 30\n",
    "senior vice president: 73, 27\n",
    "c-suite: 76, 24 "
   ]
  },
  {
   "cell_type": "code",
   "execution_count": null,
   "metadata": {},
   "outputs": [],
   "source": [
    "data_dict = {'2017': {'Entry Level': [52, 48], 'Manager': [63, 37], 'Senior Manager': [67, 33], 'Vice President': [72, 28], 'Senior Vice President': [79, 21], 'C-suite': [79, 21]},\n",
    "             '2018': {'Entry Level': [52, 48], 'Manager': [62, 38], 'Senior Manager': [66, 34], 'Vice President': [71, 29], 'Senior Vice President': [77, 23], 'C-suite': [78, 22]},\n",
    "             '2019': {'Entry Level': [52, 48], 'Manager': [62, 38], 'Senior Manager': [65, 35], 'Vice President': [69, 31], 'Senior Vice President': [74, 26], 'C-suite': [78, 22]},\n",
    "             '2020': {'Entry Level': [53, 47], 'Manager': [62, 38], 'Senior Manager': [67, 33], 'Vice President': [71, 29], 'Senior Vice President': [72, 28], 'C-suite': [79, 21]},\n",
    "             '2021': {'Entry Level': [52, 48], 'Manager': [59, 41], 'Senior Manager': [65, 35], 'Vice President': [70, 30], 'Senior Vice President': [73, 27], 'C-suite': [76, 24]}}\n",
    "data_percent_women = {'2017': {'Entry Level': 48, 'Manager': 37, 'Senior Manager': 33, 'Vice President': 28, 'Senior Vice President': 21, 'C-suite': 21},\n",
    "             '2018': {'Entry Level': 48, 'Manager': 38, 'Senior Manager': 34, 'Vice President': 29, 'Senior Vice President': 23, 'C-suite': 22},\n",
    "             '2019': {'Entry Level': 48, 'Manager': 38, 'Senior Manager': 35, 'Vice President': 31, 'Senior Vice President': 26, 'C-suite': 22},\n",
    "             '2020': {'Entry Level': 47, 'Manager': 38, 'Senior Manager': 33, 'Vice President': 29, 'Senior Vice President': 28, 'C-suite': 21},\n",
    "             '2021': {'Entry Level': 48, 'Manager': 41, 'Senior Manager': 35, 'Vice President': 30, 'Senior Vice President': 27, 'C-suite': 24}}"
   ]
  },
  {
   "cell_type": "code",
   "execution_count": null,
   "metadata": {},
   "outputs": [],
   "source": [
    "plot_data = pd.DataFrame.from_dict(data_percent_women, orient='index')"
   ]
  },
  {
   "cell_type": "code",
   "execution_count": null,
   "metadata": {},
   "outputs": [],
   "source": [
    "colors = ['#018571', '#0571B0', '#FDB863', '#92C5DE', '#B8E186', '#DFC27D']\n",
    "# plt the plot_data\n",
    "fig = plt.figure(figsize=(12,7))\n",
    "# plot a line for each position (x axis is the year, y axis is the number of people in that position)\n",
    "for i in range(len(plot_data.columns)):\n",
    "    plt.plot(plot_data.index, plot_data.iloc[:, i], label=plot_data.columns[i], color = colors[i])\n",
    "plt.legend()\n",
    "# add a title\n",
    "plt.title('Number of people in each position over time')\n",
    "# add a label for the x axis\n",
    "plt.xlabel('Year')\n",
    "# add a label for the y axis\n",
    "plt.ylabel('Percentage of women')\n",
    "# set y-lim\n",
    "plt.ylim([20, 70])\n",
    "SMALL_SIZE = 12\n",
    "MEDIUM_SIZE = 18\n",
    "BIGGER_SIZE = 22\n",
    "\n",
    "plt.rc('font', size=SMALL_SIZE)          # controls default text sizes\n",
    "plt.rc('axes', titlesize=MEDIUM_SIZE)     # fontsize of the axes title\n",
    "plt.rc('axes', labelsize=MEDIUM_SIZE)    # fontsize of the x and y labels\n",
    "plt.rc('xtick', labelsize=SMALL_SIZE)    # fontsize of the tick labels\n",
    "plt.rc('ytick', labelsize=SMALL_SIZE)    # fontsize of the tick labels\n",
    "plt.rc('legend', fontsize=SMALL_SIZE)    # legend fontsize\n",
    "plt.rc('figure', titlesize=BIGGER_SIZE)  # fontsize of the figure title\n",
    "\n"
   ]
  },
  {
   "cell_type": "markdown",
   "metadata": {},
   "source": []
  }
 ],
 "metadata": {
  "interpreter": {
   "hash": "bbfd61b9771b25adb48756b02878e03699aa9c48f369525daaaa61fe69c4b1b3"
  },
  "kernelspec": {
   "display_name": "Python 3.9.7 ('methods3')",
   "language": "python",
   "name": "python3"
  },
  "language_info": {
   "codemirror_mode": {
    "name": "ipython",
    "version": 3
   },
   "file_extension": ".py",
   "mimetype": "text/x-python",
   "name": "python",
   "nbconvert_exporter": "python",
   "pygments_lexer": "ipython3",
   "version": "3.9.7"
  },
  "orig_nbformat": 4
 },
 "nbformat": 4,
 "nbformat_minor": 2
}
